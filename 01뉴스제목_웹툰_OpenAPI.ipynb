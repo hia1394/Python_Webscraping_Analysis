{
 "cells": [
  {
   "cell_type": "markdown",
   "id": "eb0bfa44",
   "metadata": {},
   "source": [
    "## 1. 뉴스제목 가져오기\n",
    "* user-agent 요청헤더를 반드시 설정해야 한다."
   ]
  },
  {
   "cell_type": "code",
   "execution_count": 3,
   "id": "f0d27781",
   "metadata": {},
   "outputs": [
    {
     "name": "stdout",
     "output_type": "stream",
     "text": [
      "Name: requests\n",
      "Version: 2.32.4\n",
      "Summary: Python HTTP for Humans.\n",
      "Home-page: https://requests.readthedocs.io\n",
      "Author: Kenneth Reitz\n",
      "Author-email: me@kennethreitz.org\n",
      "License: Apache-2.0\n",
      "Location: C:\\Users\\hia\\anaconda3\\Lib\\site-packages\n",
      "Requires: certifi, charset_normalizer, idna, urllib3\n",
      "Required-by: aext-assistant-server, anaconda-auth, anaconda-catalogs, anaconda-project, conda, conda-build, conda-repo-cli, conda_package_streaming, cookiecutter, datashader, jupyterlab_server, panel, requests-file, requests-toolbelt, Sphinx, streamlit, tldextract\n"
     ]
    }
   ],
   "source": [
    "!pip show requests\n",
    "# requests 라이브러리 설치여부 확인"
   ]
  },
  {
   "cell_type": "code",
   "execution_count": 4,
   "id": "f7798ea8",
   "metadata": {},
   "outputs": [
    {
     "name": "stdout",
     "output_type": "stream",
     "text": [
      "Name: beautifulsoup4\n",
      "Version: 4.13.4\n",
      "Summary: Screen-scraping library\n",
      "Home-page: https://www.crummy.com/software/BeautifulSoup/bs4/\n",
      "Author: \n",
      "Author-email: Leonard Richardson <leonardr@segfault.org>\n",
      "License: MIT License\n",
      "Location: C:\\Users\\hia\\anaconda3\\Lib\\site-packages\n",
      "Requires: soupsieve, typing-extensions\n",
      "Required-by: conda-build, nbconvert\n"
     ]
    }
   ],
   "source": [
    "# beautifulsoup4 라이브러리 설치여부 확인\n",
    "!pip show beautifulsoup4 "
   ]
  },
  {
   "cell_type": "code",
   "execution_count": 2,
   "id": "bf80a429",
   "metadata": {},
   "outputs": [],
   "source": [
    "# reqeusts, bs4 import\n",
    "import requests\n",
    "import bs4\n",
    "# BeautifulSoup 클래스 import\n",
    "\n",
    "from bs4 import BeautifulSoup"
   ]
  },
  {
   "cell_type": "code",
   "execution_count": 9,
   "id": "9788d6ac",
   "metadata": {},
   "outputs": [
    {
     "name": "stdout",
     "output_type": "stream",
     "text": [
      "requests 버전= 2.32.4\n",
      "beutifulsoup 버전= 4.12.3\n"
     ]
    }
   ],
   "source": [
    "# requests, bs4 버전 확인하기\n",
    "print(f'requests 버전= {requests.__version__}')\n",
    "print(f'beutifulsoup 버전= {bs4.__version__}')"
   ]
  },
  {
   "cell_type": "markdown",
   "id": "ccb91def-cde3-4aeb-b0e5-2e7233500333",
   "metadata": {},
   "source": [
    "### 1. 뉴스 제목 추출하기"
   ]
  },
  {
   "cell_type": "code",
   "execution_count": 5,
   "id": "94c12fd6",
   "metadata": {},
   "outputs": [
    {
     "name": "stdout",
     "output_type": "stream",
     "text": [
      "https://news.naver.com/section/105\n",
      "200\n",
      "200 True\n",
      "<class 'requests.models.Response'>\n",
      "<Response [200]>\n",
      "44\n",
      "<class 'bs4.element.ResultSet'>\n",
      "1최휘영 문체장관 후보 \"게임 질병코드화 신중해야…P2E는 입법체계 우선\"https://n.news.naver.com/mnews/article/119/0002982310\n",
      "2LG유플러스, 자사주 1000억 소각·800억 추가 매입… “기업가치 제고”https://n.news.naver.com/mnews/article/366/0001094385\n",
      "3접는 폰 사상 최다 사전 판매, 갤럭시Z...'가로'가 '세로'를 처음 이겼다https://n.news.naver.com/mnews/article/469/0000877377\n",
      "4네이버클라우드, AI 추론 모델 '하이퍼클로바X 시드 14B 씽크' 상업용 무료 공개https://n.news.naver.com/mnews/article/011/0004512000\n",
      "5\"비전공자도 AI 개발자로\"…솔트룩스, '루시아 GPT' 기반 풀스택 과정 모집https://n.news.naver.com/mnews/article/243/0000081687\n",
      "6만화계, 불법 웹툰 ‘뉴토끼’ 운영자 송환 촉구 서명 운동 돌입https://n.news.naver.com/mnews/article/056/0011993936\n",
      "7\"개인정보 유출 골든타임 잡는다\"…샌즈랩, 실시간 알림 서비스 출시https://n.news.naver.com/mnews/article/003/0013377703\n",
      "8‘K-AI휴머노이드’ 개발…출연연·대학·기업 어벤져스 ‘전략연구단’ 떴다https://n.news.naver.com/mnews/article/016/0002503305\n",
      "9[나는 K-AI다] 5팀만 생존... 한국 AI 정예팀 서바이벌, 관전 포인트는?https://n.news.naver.com/mnews/article/138/0002201158\n",
      "10\"Z플립7을 6만원에\"…조용한 '할인 국지전'https://n.news.naver.com/mnews/article/011/0004512195\n",
      "11챗GPT, 하루 쿼리 25억건…구글 검색 위협https://n.news.naver.com/mnews/article/366/0001094684\n",
      "12네오플 노사 갈등 입장 '평행선'…파업 장기화에 이용자 반발https://n.news.naver.com/mnews/article/138/0002201156\n",
      "13폴라리스오피스그룹, 핸디소프트 500억에 인수..공공기관 SW 진출https://n.news.naver.com/mnews/article/018/0006071240\n",
      "14단통법 폐지 첫날⋯휴대폰 집단상가 문 닫고, 이통사는 '눈치 게임'https://n.news.naver.com/mnews/article/031/0000950855\n",
      "15소비쿠폰 중고거래 불법…정부 \"적발 시 전액 환수·형사처벌\"https://n.news.naver.com/mnews/article/092/0002383089\n",
      "16로봇끼리 코칭…'탁구 챔피언'도 노리는 딥마인드https://n.news.naver.com/mnews/article/015/0005161266\n",
      "1711년 묵은 단통법 폐지 첫날…통신 3사 '눈치 보기'https://n.news.naver.com/mnews/article/015/0005161263\n",
      "18골리앗 이길 'AI 짱돌' 찾는 네카오…\"韓 넘어 글로벌 시장 훑는다\" [긱스]https://n.news.naver.com/mnews/article/015/0005161261\n",
      "19[DD퇴근길] 단통법 폐지 첫날, '갤럭시Z7' 지원금 살펴보니https://n.news.naver.com/mnews/article/138/0002201155\n",
      "20\"갤Z폴드7 얼마에 살 수 있어요?'…단통법 폐지 첫날 휴대폰 매장 둘러보니https://n.news.naver.com/mnews/article/003/0013378394\n",
      "21단통법 오늘 폐지…이통사 보조금 전쟁 시작되나https://n.news.naver.com/mnews/article/056/0011993928\n",
      "22서울로보틱스 \"자율주행으로 국민 기업 되겠다\" [긱스]https://n.news.naver.com/mnews/article/015/0005161253\n",
      "23단통법 폐지에 알뜰폰에 필요한 것 '더 빠른 데이터무제한요금제'https://n.news.naver.com/mnews/article/293/0000070117\n",
      "24삼성SDI, LT정밀과 '동맹'…美 GM 합작 공장에 배터리 캔 공급https://n.news.naver.com/mnews/article/030/0003334153\n",
      "25[단독] 공공 SLA 의무화 1년 연기…가용률 요구도 낮춰https://n.news.naver.com/mnews/article/029/0002970118\n",
      "2647→39% 'SKT 설욕전' 기대했는데…시장 분위기 '잠잠', 왜?https://n.news.naver.com/mnews/article/008/0005225313\n",
      "27창사 이래 첫 파업…한컴 노조 “임금 인상 6.9% 수정안 수용해야”https://n.news.naver.com/mnews/article/029/0002970116\n",
      "28콜마그룹 윤동한 회장, 콜마홀딩스 상대로 검사인 선임 신청https://n.news.naver.com/mnews/article/092/0002383083\n",
      "29LG, AI ‘챗엑사원’ 무료 제공 한다…‘기업간거래’ 사업 본격화https://n.news.naver.com/mnews/article/028/0002757370\n",
      "30MS 문서 공유 SW 해킹으로 100개 기관 피해…공격 주체로 中 지목https://n.news.naver.com/mnews/article/030/0003334138\n",
      "31전공의 “입영 연기해주고 시험 확대” 요구에 국민 여론 냉담…“과도한 특혜 바라는 것”https://n.news.naver.com/mnews/article/029/0002970109\n",
      "32부동산으로 '37억' 잭팟…오상진 아내 김소영, 이번에는https://n.news.naver.com/mnews/article/015/0005161210\n",
      "33韓 전자·부품사 2분기 실적 먹구름… SK하이닉스 ‘나홀로 질주’https://n.news.naver.com/mnews/article/366/0001094653\n",
      "34[영상] 콜드플레이 공연장 ‘백허그 불륜 커플’ 패러디 쏟아진다https://n.news.naver.com/mnews/article/092/0002383079\n",
      "35손주에게 옛이야기 들려주듯… AI가 참전용사 자서전 쓴다https://n.news.naver.com/mnews/article/469/0000877416\n",
      "36HD현대일렉트릭, 올해 매출 4조원 넘본다https://n.news.naver.com/mnews/article/092/0002383074\n",
      "37음식물 속 식중독균을 2시간만에 찾아냈다https://n.news.naver.com/mnews/article/014/0005380761\n",
      "38K-AI휴머노이드, 글로벌 로봇시장 출사표… LG전자 등 산학연 총집결https://n.news.naver.com/mnews/article/018/0006071142\n",
      "39[르포]보조금 경쟁은 아직…단통법 폐지 첫날https://n.news.naver.com/mnews/article/648/0000038106\n",
      "40단통법 폐지만 기다렸는데…'공짜폰 어디 있나요?' 허탈https://n.news.naver.com/mnews/article/015/0005161194\n",
      "41신약 개발·AI로봇…메타보다 뛰어난 LG '엑사원 생태계' 첫 선https://n.news.naver.com/mnews/article/014/0005380752\n",
      "42대웅제약, 바이오시밀러 사업 진출... 토종 제약사, 갑자기 왜https://n.news.naver.com/mnews/article/469/0000877397\n",
      "43최휘영 문체부장관 후보자 \"게임이용장애 질병코드 등재 신중해야\"https://n.news.naver.com/mnews/article/031/0000950817\n",
      "44AI 발전에 ‘진심’ 네이버…‘하이퍼클로바X’ 추론 모델 상업용 무료 공개https://n.news.naver.com/mnews/article/022/0004053794\n"
     ]
    }
   ],
   "source": [
    "# IT/과학 뉴스 \n",
    "import requests\n",
    "from bs4 import BeautifulSoup\n",
    "req_param = {\n",
    "    'sid': 105\n",
    "}\n",
    "#url = 'https://news.naver.com/section/'\n",
    "\n",
    "url = 'https://news.naver.com/section/{sid}'.format(**req_param)\n",
    "print(url)\n",
    "\n",
    "# 요청 헤더 설정 : 브라우저 정보\n",
    "req_header = {\n",
    "    \"user-agent\": \"Mozilla/5.0 (Windows NT 10.0; Win64; x64) AppleWebKit/537.36 (KHTML, like Gecko) Chrome/104.0.0.0 Safari/537.36\"\n",
    "}\n",
    "\n",
    "res = requests.get(url,headers=req_header)\n",
    "print(res.status_code)\n",
    "\n",
    "# requests 의 get() 함수 호출하기 \n",
    "\n",
    "print(res.status_code, res.ok)\n",
    "print(type(res))\n",
    "print(res)\n",
    "# 응답(response)이 OK 이면\n",
    "# 응답 (response)에서 text 추출\n",
    "if res.ok:\n",
    "    html = res.text\n",
    "    # BeautifulSoup 객체 생성\n",
    "    soup = BeautifulSoup(html, \"html.parser\")   \n",
    "    #print(soup)\n",
    "    # CSS 선택자\n",
    "    # print(soup.select(\"div.sa_text a[href*='mnews/article']\"))\n",
    "    '''\n",
    "       <div class='sa_text'> \n",
    "          <a href=\"https://n.news.naver.com/mnews/article/366/0001094461\" class=\"sa_text_title\">\n",
    "    '''\n",
    "    a_tags = soup.select(\"div.sa_text a[href*='mnews/article'].sa_text_title\")\n",
    "    print(len(a_tags))\n",
    "    print(type(a_tags)) #[Tag,Tag,Tag]\n",
    "\n",
    "# <a> 태그 리스트 순회하기    \n",
    "    for 3 in enumerate(a_tags,1):\n",
    "        if a_tags.text:\n",
    "            title = a_tags.text.strip()\n",
    "            link = a_tags['href']\n",
    "            print(f'{idx}{title}{link}')\n",
    "\n",
    "    \n",
    "# 응답(response)이 Error 이면 status code 출력    \n",
    "\n"
   ]
  },
  {
   "cell_type": "code",
   "execution_count": 16,
   "id": "6d2f85ec",
   "metadata": {},
   "outputs": [
    {
     "name": "stdout",
     "output_type": "stream",
     "text": [
      "https://news.naver.com/section/105\n"
     ]
    }
   ],
   "source": [
    "# IT/과학 뉴스 \n",
    "req_param = {\n",
    "    'sid': 105\n",
    "}\n",
    "#url = f'https://news.naver.com/section/{sid}'\n",
    "\n",
    "url = 'https://news.naver.com/section/{sid}'.format(**req_param)\n",
    "print(url)\n",
    "\n"
   ]
  },
  {
   "cell_type": "code",
   "execution_count": null,
   "id": "d429079f",
   "metadata": {},
   "outputs": [],
   "source": []
  },
  {
   "cell_type": "code",
   "execution_count": null,
   "id": "7e8f0db2",
   "metadata": {},
   "outputs": [],
   "source": []
  },
  {
   "cell_type": "markdown",
   "id": "45640860-a449-4285-90d7-5f300292b461",
   "metadata": {},
   "source": [
    "### 1.1 뉴스제목 추출하는 함수 선언하기"
   ]
  },
  {
   "cell_type": "code",
   "execution_count": 2,
   "id": "9f2e4ef8",
   "metadata": {},
   "outputs": [],
   "source": [
    "import requests\n",
    "from bs4 import BeautifulSoup\n",
    "\n",
    "section_dict = {'정치':100,'경제':101,'사회':102,'생활/문화':103,'세계':104,'IT/과학':105}\n",
    "\n",
    "\n",
    "def print_news(section):  #print_new(103,'생활/문화')\n",
    "    sid = section_dict[section] \n",
    "    url = f'https://news.naver.com/section/{sid}'\n",
    "    print(f'{url} {section} 뉴스')\n",
    "\n",
    "    req_header = {\n",
    "        \"user-agent\": \"Mozilla/5.0 (Windows NT 10.0; Win64; x64) AppleWebKit/537.36 (KHTML, like Gecko) Chrome/104.0.0.0 Safari/537.36\"\n",
    "    }    \n",
    "    # requests 의 get() 함수 호출하기 \n",
    "    res=requests.get(url,headers=req_header)\n",
    "    print(res.status_code, res.ok)\n",
    "\n",
    "    if res.ok:\n",
    "        html = res.text\n",
    "        # BeautifulSoup 객체 생성\n",
    "        soup = BeautifulSoup(html, \"html.parser\") \n",
    "        a_tags = soup.select(\"div.sa_text a[href*='mnews/article'].sa_text_title\")\n",
    "        print(len(a_tags))\n",
    "        for idx,a_tag in enumerate(a_tags,1):\n",
    "            if a_tag.text:\n",
    "                title = a_tag.text.strip()\n",
    "                link = a_tag['href']\n",
    "                print(f'{idx}{title}{link}')\n",
    "\n",
    "    else:\n",
    "        print(f'Error Code = {res.status_code}')"
   ]
  },
  {
   "cell_type": "code",
   "execution_count": 3,
   "id": "858952c6",
   "metadata": {},
   "outputs": [
    {
     "name": "stdout",
     "output_type": "stream",
     "text": [
      "https://news.naver.com/section/104 세계 뉴스\n",
      "200 True\n",
      "46\n",
      "1일본서 한 달간 연락 끊긴 한국인 20대 여성 소재 파악…외교부 \"영사 조력\"https://n.news.naver.com/mnews/article/003/0013378679\n",
      "2크렘린궁 \"우크라와 3차 협상서 '기적적 돌파구' 기대 안 해\"https://n.news.naver.com/mnews/article/055/0001277601\n",
      "3日 자민당, 이시바 '버티기'에 부글...\"총재 리콜할 수도\"https://n.news.naver.com/mnews/article/469/0000877454\n",
      "4韓, 국제수학올림피아드 금 4, 은 2 전원 수상https://n.news.naver.com/mnews/article/029/0002969979\n",
      "5베센트 \"연준 기관 전체 조사해야\"…연준도 맞대응https://n.news.naver.com/mnews/article/374/0000452943\n",
      "6‘일본인 퍼스트’는 일본판 ‘MAGA’…우익 참정당 약진 이끈 마법의 구호https://n.news.naver.com/mnews/article/056/0011993854\n",
      "7방글라 공군 훈련기, 학교에 추락..최소 19명 숨져https://n.news.naver.com/mnews/article/660/0000089483\n",
      "8푸틴의 드론 전쟁은 ‘소년공’들 손에서···청소년까지 동원해 무기 만드는 러시아https://n.news.naver.com/mnews/article/032/0003384535\n",
      "9좌초하고 있는 트럼프 행정부 야심찬 AI 프로젝트 '스타게이트'https://n.news.naver.com/mnews/article/014/0005380459\n",
      "10중국, 대학 입시도 이공계 선호 뚜렷…의대 인기 급락https://n.news.naver.com/mnews/article/422/0000762673\n",
      "11미 “필리핀 방위조약 태평양 어디든 적용”…한국 지원 원하나https://n.news.naver.com/mnews/article/025/0003456982\n",
      "12트럼프, 유네스코 탈퇴 결정…바이든 재가입 2년만에 뒤집기(종합)https://n.news.naver.com/mnews/article/001/0015523440\n",
      "13美재무 \"中과 28~29일 무역회담…美中 관세인하 연장 가능성\"(종합)https://n.news.naver.com/mnews/article/001/0015523439\n",
      "14뉴욕증시, 고점 부담 속 혼조 출발…기술주 약세https://n.news.naver.com/mnews/article/366/0001094740\n",
      "15美재무 \"내주 중국과 스톡홀름에서 무역회담\"…관세 휴전 연장 논의https://n.news.naver.com/mnews/article/469/0000877493\n",
      "16美, 2년 만에 유네스코 또 탈퇴…\"반이스라엘·친중 성향 문제 삼아\"https://n.news.naver.com/mnews/article/008/0005225415\n",
      "17크렘린궁 \"우크라와 3차협상서 '기적적 돌파구' 기대 안해\"(종합)https://n.news.naver.com/mnews/article/001/0015523426\n",
      "18'제로 칼로리' 다이어트 음료 많이 마셨는데…'무서운 결과'https://n.news.naver.com/mnews/article/015/0005161406\n",
      "192200년前 켈트족 정착지 찾았더니...금은보화 '와르르'https://n.news.naver.com/mnews/article/030/0003334200\n",
      "20이란, 50도 넘는 폭염에 단수·정전…테헤란 긴급 공휴일 지정https://n.news.naver.com/mnews/article/018/0006071571\n",
      "21선거 참패 퇴진 요구에... 버티는 이시바, 열받는 자민당https://n.news.naver.com/mnews/article/023/0003918691\n",
      "22트럼프, 재가입 2년 만에 유네스코 또 탈퇴…바이든 정책 뒤집어https://n.news.naver.com/mnews/article/469/0000877484\n",
      "23\"美 핵무기, 17년 만에 영국 배치된 듯…F-35A 전투기 탑재용\"https://n.news.naver.com/mnews/article/008/0005225407\n",
      "24휴전 압박에 ‘공습’ 대응…드론 공장 공개 ‘자신감’https://n.news.naver.com/mnews/article/056/0011994181\n",
      "25미국, 17년 만에 영국에 핵무기 배치 정황…대러 억지력 강화https://n.news.naver.com/mnews/article/025/0003456926\n",
      "26미국, 국제기구 또 나간다…\"트럼프 '유네스코' 탈퇴 결정\"https://n.news.naver.com/mnews/article/008/0005225402\n",
      "271면이 바다 폴란드 대규모 유전·가스전 발견, 3면이 바다 대한민국 '대왕고래'는?https://n.news.naver.com/mnews/article/088/0000960488\n",
      "28트럼프, 유네스코 탈퇴 결정…바이든 재가입 2년만에 뒤집기https://n.news.naver.com/mnews/article/001/0015523348\n",
      "29러, 15세 아이들까지 동원…‘자폭 드론’ 한 달 5200대 찍어낸다https://n.news.naver.com/mnews/article/032/0003384632\n",
      "30물러설 기미 없는 이시바…자민당 내부선 “퇴진하라” 부글https://n.news.naver.com/mnews/article/032/0003384628\n",
      "31“MS 셰어포인트 해킹, 中 연계 조직 관련”https://n.news.naver.com/mnews/article/022/0004053887\n",
      "32손발 안 맞는 오픈AI·소프트뱅크...트럼프의 700조 짜리 ‘AI 뉴딜’ 삐걱https://n.news.naver.com/mnews/article/009/0005529474\n",
      "33콘크리트 지지층 등 돌려… “자민·공명연합 한계”https://n.news.naver.com/mnews/article/022/0004053882\n",
      "34\"美, 17년 만에 영국에 핵무기 배치한 듯\"https://n.news.naver.com/mnews/article/001/0015523293\n",
      "35일본, 동일본대지진 이후 첫 원전 신설 추진… 신형 경수로 도입 예정https://n.news.naver.com/mnews/article/366/0001094725\n",
      "36일본, 원전 새로 더 짓는다…2040년까지 2배 이상 늘릴 전망https://n.news.naver.com/mnews/article/016/0002503434\n",
      "37한국인 가짜뉴스 퍼뜨렸던 일본 ‘민폐 유튜버’, 시의원 당선https://n.news.naver.com/mnews/article/422/0000762658\n",
      "38“이 나라가 부러운 점도 있네”...AI 열풍속 이공계 선호 ‘뚜렷’한 중국, 의대 인기는 급락https://n.news.naver.com/mnews/article/009/0005529463\n",
      "39동일본대지진 이후 첫 日신설 원전, 신형 경수로 도입 추진https://n.news.naver.com/mnews/article/001/0015523274\n",
      "40중국 항저우 ‘악취 수돗물’ 난린데…“유언비어 유포자 구류”https://n.news.naver.com/mnews/article/016/0002503421\n",
      "41'美에 더 가까이' 필리핀, '中과 군사 밀착' 베트남… 엇갈리는 외교 전략https://n.news.naver.com/mnews/article/469/0000877464\n",
      "42이시바 선거참패에도 버티자…“#총리 퇴진 요구” SNS 운동 확산https://n.news.naver.com/mnews/article/020/0003649652\n",
      "4314조 소송 이어 취재 배제...이번엔 WSJ와 전쟁https://n.news.naver.com/mnews/article/052/0002222971\n",
      "44‘아베파 줄낙마’ 원톱 파벌 사라진 자민당… 이시바 버티기https://n.news.naver.com/mnews/article/005/0001791318\n",
      "45지구자전 속도 점점 빨라져 낮 시간 짧아지고 있다https://n.news.naver.com/mnews/article/003/0013378547\n",
      "46하필 지금 꺼낸 ‘킹 목사’ 암살 문건… ‘엡스타인 덮기용’ 의혹 [뉴스 투데이]https://n.news.naver.com/mnews/article/022/0004053849\n"
     ]
    }
   ],
   "source": [
    "print_news('세계')"
   ]
  },
  {
   "cell_type": "markdown",
   "id": "323196dc",
   "metadata": {},
   "source": [
    "### 2. Image 다운로드\n",
    "* referer 요청 헤더를 반드시 설정해야 한다."
   ]
  },
  {
   "cell_type": "code",
   "execution_count": 85,
   "id": "c72d6cb1",
   "metadata": {},
   "outputs": [
    {
     "name": "stdout",
     "output_type": "stream",
     "text": [
      "False 404\n",
      "True 200\n",
      "20250605145211_c2f0fdee190efbdd3ef2fed8e7392783_IMAG01_3.jpg\n",
      "Writing to 20250605145211_c2f0fdee190efbdd3ef2fed8e7392783_IMAG01_3.jpg(129,174bytes)\n"
     ]
    }
   ],
   "source": [
    "import requests\n",
    "import os\n",
    "\n",
    "req_header = {\n",
    "    'referer':'https://comic.naver.com/webtoon/detail?titleId=835751&no=24&week=tue',\n",
    "    \"user-agent\": \"Mozilla/5.0 (Windows NT 10.0; Win64; x64) AppleWebKit/537.36 (KHTML, like Gecko) Chrome/104.0.0.0 Safari/537.36\"\n",
    "}\n",
    "req_header\n",
    "\n",
    "img_urls = [\n",
    "    'https://image-comic.pstatic.net/webtoon/837659/18/20250605145211_c2f0fdee190efbdd3ef2fed8e7392783_IMAG01_1.jpg'\n",
    "    'https://image-comic.pstatic.net/webtoon/837659/18/20250605145211_c2f0fdee190efbdd3ef2fed8e7392783_IMAG01_2.jpg',\n",
    "    'https://image-comic.pstatic.net/webtoon/837659/18/20250605145211_c2f0fdee190efbdd3ef2fed8e7392783_IMAG01_3.jpg'\n",
    "]\n",
    "\n",
    "for img_url in img_urls:\n",
    "    # requests 의 get(url, headers) 함수 호출하기 \n",
    "    res = requests.get(img_url,headers=req_header)\n",
    "    print(res.ok,res.status_code)\n",
    "    if res.ok:\n",
    "        # binary 응답 데이터 가져오기\n",
    "        img_data = res.content\n",
    "        # url에서 파일명만 추출하기\n",
    "        file_name = os.path.basename(img_url)\n",
    "        print(file_name)\n",
    "        # binday data를 file에 write하기\n",
    "        with open(file_name, 'wb') as file:\n",
    "            print(f'Writing to {file_name}({len(img_data):,}bytes)')\n",
    "            file.write(img_data)"
   ]
  },
  {
   "cell_type": "code",
   "execution_count": null,
   "id": "9d7abd47",
   "metadata": {},
   "outputs": [],
   "source": []
  },
  {
   "cell_type": "markdown",
   "id": "e8b00a04",
   "metadata": {},
   "source": [
    "* 현재 요청된 페이지의 image 모두 다운로드 해보기"
   ]
  },
  {
   "cell_type": "code",
   "execution_count": null,
   "id": "b30f7bf5",
   "metadata": {},
   "outputs": [
    {
     "name": "stdout",
     "output_type": "stream",
     "text": [
      "200\n",
      "93\n",
      "93\n",
      "74\n",
      "74\n",
      "Writing to img\\20250605145211_c2f0fdee190efbdd3ef2fed8e7392783_IMAG01_1.jpg(91,666bytes)\n",
      "Writing to img\\20250605145211_c2f0fdee190efbdd3ef2fed8e7392783_IMAG01_2.jpg(68,299bytes)\n",
      "Writing to img\\20250605145211_c2f0fdee190efbdd3ef2fed8e7392783_IMAG01_3.jpg(129,174bytes)\n"
     ]
    }
   ],
   "source": [
    "import requests\n",
    "from bs4 import BeautifulSoup\n",
    "import os\n",
    "\n",
    "web_url = 'https://comic.naver.com/webtoon/detail?titleId=837659&no=18&week=mon'\n",
    "req_header = {\n",
    "    'referer' : web_url,\n",
    "    \"user-agent\": \"Mozilla/5.0 (Windows NT 10.0; Win64; x64) AppleWebKit/537.36 (KHTML, like Gecko) Chrome/104.0.0.0 Safari/537.36\"\n",
    "}\n",
    "res = requests.get(web_url)\n",
    "\n",
    "print(res.status_code)\n",
    "\n",
    "if res.ok:\n",
    "    soup = BeautifulSoup(res.text,'html.parser')\n",
    "    print(len(soup.select(\"img[src$='.jpg']\")))#끝이면 $\n",
    "    #https://image-comic.pstatic.net/webtoon/\n",
    "    print(len(soup.select(\"img[src^='https://image-comic.pstatic.net/webtoon/']\")))#첫부분이면 ^\n",
    "    print(len(soup.select(\"img[src*='IMAG01']\")))#중간이면 *\n",
    "    \n",
    "    img_url_list = list()\n",
    "    img_tags = soup.select(\"img[src*='IMAG01']\")\n",
    "    for img_tag in img_tags:\n",
    "        img_url = img_tag['src']\n",
    "        \n",
    "        img_url_list.append(img_url)\n",
    "    print(len(img_url_list))\n",
    "\n",
    "    imgdir_name = 'img'\n",
    "    if not os.path.isdir(imgdir_name):\n",
    "        os.mkdir(imgdir_name)\n",
    "\n",
    "    for jpg_url in img_url_list:\n",
    "        res = requests.get(jpg_url, headers=req_header)\n",
    "        if res.ok:\n",
    "            #바이너리 data 추출\n",
    "            img_data = res.content\n",
    "            dir_name = os.path.join(imgdir_name, os.path.basename(jpg_url))\n",
    "            with open(dir_name,'wb') as file:\n",
    "                print(f'Writing to {dir_name}({len(img_data):,}bytes)')\n",
    "                file.write(img_data)\n",
    "        else:\n",
    "            print(f'Error Code = {res.status_code}')"
   ]
  },
  {
   "cell_type": "markdown",
   "id": "c997ea47",
   "metadata": {},
   "source": [
    "### 리팩토링 코드 ###"
   ]
  },
  {
   "cell_type": "code",
   "execution_count": null,
   "id": "d5ae337d",
   "metadata": {},
   "outputs": [],
   "source": [
    "import requests\n",
    "from bs4 import BeautifulSoup\n",
    "import os\n",
    "\n",
    "# 기본 설정\n",
    "url = 'https://comic.naver.com/webtoon/detail?titleId=833255&no=35&week=tue'\n",
    "req_header = {'referer': url}\n",
    "imgdir_name = 'img'\n",
    "\n",
    "# 이미지 저장 폴더가 없으면 생성\n",
    "os.makedirs(imgdir_name, exist_ok=True)\n",
    "\n",
    "# 웹 페이지 요청 및 확인\n",
    "res = requests.get(url)\n",
    "if not res.ok:\n",
    "    print(f'Error Code = {res.status_code}')\n",
    "    exit()\n",
    "\n",
    "# 이미지 URL 추출\n",
    "soup = BeautifulSoup(res.text, 'html.parser')\n",
    "img_url_list = [img_tag['src'] for img_tag in soup.select(\"img[src*='IMAG01']\")]\n",
    "\n",
    "# 이미지 다운로드\n",
    "for img_url in img_url_list:\n",
    "    res = requests.get(img_url, headers=req_header)\n",
    "    if res.ok:\n",
    "        img_data = res.content\n",
    "        file_path = os.path.join(imgdir_name, os.path.basename(img_url))\n",
    "        with open(file_path, 'wb') as file:\n",
    "            print(f'Writing to {file_path} ({len(img_data):,} bytes)')\n",
    "            file.write(img_data)\n",
    "    else:\n",
    "        print(f'Error Code = {res.status_code} for {img_url}')"
   ]
  },
  {
   "cell_type": "markdown",
   "id": "2ac9f5f9",
   "metadata": {},
   "source": [
    "### 3. 파일 업로드 하기\n",
    "* http://httpbin.org/post 업로드 요청을 할 수 있는 url"
   ]
  },
  {
   "cell_type": "code",
   "execution_count": null,
   "id": "04da4790",
   "metadata": {},
   "outputs": [
    {
     "name": "stdout",
     "output_type": "stream",
     "text": [
      "200\n"
     ]
    }
   ],
   "source": [
    "import requests\n",
    "\n",
    "upload_files = {\n",
    "    \n",
    "}\n",
    "#print(upload_files)\n",
    "\n",
    "url = 'http://httpbin.org/post'\n",
    "# file 업로드 하려면 requests의 post 함수에 files 속성을 사용합니다.\n",
    "\n"
   ]
  },
  {
   "cell_type": "markdown",
   "id": "7ad65f12",
   "metadata": {},
   "source": [
    "### 4. 캡챠(이미지) API 호출하기\n",
    "* urllib 사용\n",
    "* 1. 캡차 키 발급 요청\n",
    "  2. 캡차 이미지 요청\n",
    "  3. 사용자 입력값 검증 요청"
   ]
  },
  {
   "cell_type": "code",
   "execution_count": null,
   "id": "bc4ae360-e772-4873-8642-d3494edd34e1",
   "metadata": {},
   "outputs": [],
   "source": [
    "# 캡차 키 발급 요청\n"
   ]
  },
  {
   "cell_type": "code",
   "execution_count": null,
   "id": "7b95b6a0-c218-4792-82a6-da4d80872071",
   "metadata": {},
   "outputs": [],
   "source": [
    "# 캡차 이미지 요청\n"
   ]
  },
  {
   "cell_type": "code",
   "execution_count": null,
   "id": "a79076af-2cd0-4de2-8301-316b9130c55e",
   "metadata": {},
   "outputs": [],
   "source": [
    "#  사용자 입력값 검증 요청\n",
    "\n"
   ]
  },
  {
   "cell_type": "markdown",
   "id": "b7d984a6",
   "metadata": {},
   "source": [
    "* requests를 사용하는 코드로 변경하기\n",
    "* [requests docs](https://requests.readthedocs.io/en/latest/user/quickstart/)"
   ]
  },
  {
   "cell_type": "code",
   "execution_count": null,
   "id": "727b427b",
   "metadata": {
    "scrolled": true
   },
   "outputs": [
    {
     "name": "stdout",
     "output_type": "stream",
     "text": [
      "Error Code: 403\n"
     ]
    }
   ],
   "source": [
    "# 사용자 입력값 검증 요청\n",
    "\n"
   ]
  },
  {
   "cell_type": "markdown",
   "id": "d5e1179a",
   "metadata": {},
   "source": [
    "### 5. 블로그 검색하기"
   ]
  },
  {
   "cell_type": "code",
   "execution_count": null,
   "id": "877d0c7f",
   "metadata": {},
   "outputs": [],
   "source": [
    "import requests\n",
    "import pprint\n",
    "\n",
    "headers = {\n",
    "    'X-Naver-Client-Id': '',\n",
    "    'X-Naver-Client-Secret': '',\n",
    "}\n",
    "\n",
    "payload = {\n",
    "    'query': '파이썬',\n",
    "    'display': 100,\n",
    "    'sort': 'sim'\n",
    "}\n",
    "\n",
    "url = 'https://openapi.naver.com/v1/search/blog.json'\n",
    "\n",
    "\n",
    "# requests get(url, params, headers) 요청 \n",
    "\n",
    "# json() 함수로 응답 결과 가져오오기\n",
    "# 'title' , 'bloggername' , 'description' , 'bloggerlink' , 'link'\n",
    "\n",
    "# 'data/nhnblog.txt' 파일 생성하기\n"
   ]
  }
 ],
 "metadata": {
  "kernelspec": {
   "display_name": "base",
   "language": "python",
   "name": "python3"
  },
  "language_info": {
   "codemirror_mode": {
    "name": "ipython",
    "version": 3
   },
   "file_extension": ".py",
   "mimetype": "text/x-python",
   "name": "python",
   "nbconvert_exporter": "python",
   "pygments_lexer": "ipython3",
   "version": "3.12.7"
  }
 },
 "nbformat": 4,
 "nbformat_minor": 5
}
