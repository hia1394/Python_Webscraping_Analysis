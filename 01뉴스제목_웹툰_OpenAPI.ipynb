{
 "cells": [
  {
   "cell_type": "markdown",
   "id": "eb0bfa44",
   "metadata": {},
   "source": [
    "## 1. 뉴스제목 가져오기\n",
    "* user-agent 요청헤더를 반드시 설정해야 한다."
   ]
  },
  {
   "cell_type": "code",
   "execution_count": 3,
   "id": "f0d27781",
   "metadata": {},
   "outputs": [
    {
     "name": "stdout",
     "output_type": "stream",
     "text": [
      "Name: requests\n",
      "Version: 2.32.4\n",
      "Summary: Python HTTP for Humans.\n",
      "Home-page: https://requests.readthedocs.io\n",
      "Author: Kenneth Reitz\n",
      "Author-email: me@kennethreitz.org\n",
      "License: Apache-2.0\n",
      "Location: C:\\Users\\hia\\anaconda3\\Lib\\site-packages\n",
      "Requires: certifi, charset_normalizer, idna, urllib3\n",
      "Required-by: aext-assistant-server, anaconda-auth, anaconda-catalogs, anaconda-project, conda, conda-build, conda-repo-cli, conda_package_streaming, cookiecutter, datashader, jupyterlab_server, panel, requests-file, requests-toolbelt, Sphinx, streamlit, tldextract\n"
     ]
    }
   ],
   "source": [
    "!pip show requests\n",
    "# requests 라이브러리 설치여부 확인"
   ]
  },
  {
   "cell_type": "code",
   "execution_count": 4,
   "id": "f7798ea8",
   "metadata": {},
   "outputs": [
    {
     "name": "stdout",
     "output_type": "stream",
     "text": [
      "Name: beautifulsoup4\n",
      "Version: 4.13.4\n",
      "Summary: Screen-scraping library\n",
      "Home-page: https://www.crummy.com/software/BeautifulSoup/bs4/\n",
      "Author: \n",
      "Author-email: Leonard Richardson <leonardr@segfault.org>\n",
      "License: MIT License\n",
      "Location: C:\\Users\\hia\\anaconda3\\Lib\\site-packages\n",
      "Requires: soupsieve, typing-extensions\n",
      "Required-by: conda-build, nbconvert\n"
     ]
    }
   ],
   "source": [
    "# beautifulsoup4 라이브러리 설치여부 확인\n",
    "!pip show beautifulsoup4 "
   ]
  },
  {
   "cell_type": "code",
   "execution_count": 2,
   "id": "bf80a429",
   "metadata": {},
   "outputs": [],
   "source": [
    "# reqeusts, bs4 import\n",
    "import requests\n",
    "import bs4\n",
    "# BeautifulSoup 클래스 import\n",
    "\n",
    "from bs4 import BeautifulSoup"
   ]
  },
  {
   "cell_type": "code",
   "execution_count": 9,
   "id": "9788d6ac",
   "metadata": {},
   "outputs": [
    {
     "name": "stdout",
     "output_type": "stream",
     "text": [
      "requests 버전= 2.32.4\n",
      "beutifulsoup 버전= 4.12.3\n"
     ]
    }
   ],
   "source": [
    "# requests, bs4 버전 확인하기\n",
    "print(f'requests 버전= {requests.__version__}')\n",
    "print(f'beutifulsoup 버전= {bs4.__version__}')"
   ]
  },
  {
   "cell_type": "markdown",
   "id": "ccb91def-cde3-4aeb-b0e5-2e7233500333",
   "metadata": {},
   "source": [
    "### 1. 뉴스 제목 추출하기"
   ]
  },
  {
   "cell_type": "code",
   "execution_count": 23,
   "id": "94c12fd6",
   "metadata": {},
   "outputs": [
    {
     "name": "stdout",
     "output_type": "stream",
     "text": [
      "https://news.naver.com/section/105\n",
      "200\n",
      "200 True\n",
      "<class 'requests.models.Response'>\n",
      "<Response [200]>\n",
      "44\n",
      "<class 'bs4.element.ResultSet'>\n",
      "1LG유플러스, 자사주 1000억원 소각…800억원 추가 매입https://n.news.naver.com/mnews/article/016/0002502785\n",
      "2지아이이노베이션, 에임드바이오와 교모세포종 신약 공동개발https://n.news.naver.com/mnews/article/009/0005529066\n",
      "3이통3사, 폴드7·플립7 오늘부터 사전개통 개시…혜택 경쟁https://n.news.naver.com/mnews/article/001/0015521710\n",
      "4오픈AI·MIT도 관심…K-휴머노이드가 온다https://n.news.naver.com/mnews/article/092/0002382902\n",
      "5네이버클라우드, AI 추론 모델 '하이퍼클로바X 시드 14B 씽크' 상업용 무료 공개https://n.news.naver.com/mnews/article/011/0004512000\n",
      "6대기업도 개인정보 유출 '참사'..실시간 유출 알림으로 보안 의식 업https://n.news.naver.com/mnews/article/018/0006071030\n",
      "7카카오웹툰 '파인', 디즈니+ 공개…조회수 58배·매출 26배 '쑥'https://n.news.naver.com/mnews/article/421/0008384579\n",
      "8BC카드, AI 검색 스타트업 ‘라이너’와 전략적 협약 체결https://n.news.naver.com/mnews/article/018/0006070805\n",
      "9폴드7·플립7 지원금 최대 60만원…단통법 폐지 첫날 소폭 인상https://n.news.naver.com/mnews/article/018/0006071104\n",
      "10\"공시지원금 50만원뿐\"...단통법 폐지 첫날 '보조금 대란' 없었다https://n.news.naver.com/mnews/article/008/0005225245\n",
      "11中 AI 굴기 계속된다… 화웨이, ‘엔비디아 2배 성능’ AI 시스템 첫 공개https://n.news.naver.com/mnews/article/366/0001094624\n",
      "12中, 메모리부터 시스템반도체까지 전방위 韓 추격https://n.news.naver.com/mnews/article/092/0002383057\n",
      "13[르포] 단통법 폐지 첫 날…휴대폰 판매점에서 사라진 '계산기'https://n.news.naver.com/mnews/article/421/0008385416\n",
      "14삼성전자 “HBM 16단부터 하이브리드 본딩 점진적 도입”https://n.news.naver.com/mnews/article/030/0003334070\n",
      "15[뉴스1 PICK]단통법, 오늘부터 폐지…휴대폰값 싸질까https://n.news.naver.com/mnews/article/421/0008385347\n",
      "1650만번 접었다 펴도 멀쩡…2.5배 강해진 삼성디스플레이 폴더블 OLEDhttps://n.news.naver.com/mnews/article/629/0000409631\n",
      "17[일문일답] '트리거' 감독 \"총기 사고 유감, 콘텐츠 연관짓진 말아야\"https://n.news.naver.com/mnews/article/138/0002201137\n",
      "18접는 폰 사상 최다 사전 판매, 갤럭시Z...'가로'가 '세로'를 처음 이겼다https://n.news.naver.com/mnews/article/469/0000877377\n",
      "191.46조원 정부 'GPU 확보 사업' 최종 발표 임박…공공 비중이 승부 가른다https://n.news.naver.com/mnews/article/092/0002383041\n",
      "20아이폰 교통카드 장착, 韓서 갤럭시 아성 흔드나https://n.news.naver.com/mnews/article/018/0006071069\n",
      "21삼성전자, 'HBM4E 16단'서 하이브리드 본딩 도입 검토…샘플 평가 中https://n.news.naver.com/mnews/article/092/0002383040\n",
      "22[단독]애플페이 교통카드 출시에…삼페 교통카드도 수수료 '0%'https://n.news.naver.com/mnews/article/421/0008385290\n",
      "23\"수정하지 말라 11번 말했는데\"…데이터베이스 지운 바이브 코딩https://n.news.naver.com/mnews/article/092/0002383038\n",
      "24\"日 귀화한 '뉴토끼' 잡아라\"…만화가들 대규모 서명운동, 무슨 일?https://n.news.naver.com/mnews/article/008/0005225195\n",
      "25\"하루 25억 건\"…오픈AI, '챗GPT'로 구글 검색 턱밑까지 추격https://n.news.naver.com/mnews/article/092/0002383035\n",
      "26[써보고서] 애플 이용자도 이제는 지갑 안갖고 다녀도 됩니다https://n.news.naver.com/mnews/article/092/0002383034\n",
      "27알츠하이머병 고칠 약, 이미 있었다https://n.news.naver.com/mnews/article/366/0001094592\n",
      "28[1분건강] 자궁 출혈 지속된다면 ‘자궁내막암’ 의심https://n.news.naver.com/mnews/article/092/0002383031\n",
      "29[이슈플러스] 단통법 폐지 첫날, '대란'은 없었다https://n.news.naver.com/mnews/article/030/0003334048\n",
      "3011년 만에 단통법 폐지…“같은 단말기도 가격 다를 수 있어 따져봐야”https://n.news.naver.com/mnews/article/056/0011993804\n",
      "31최태원 차녀 최민정, 군대서 비극 겪더니…“극단선택 동료들 보고 창업”https://n.news.naver.com/mnews/article/016/0002503297\n",
      "32출시도 전에...갤럭시Z7 역대 최대 104만대 팔려https://n.news.naver.com/mnews/article/030/0003334029\n",
      "33'단통법 폐지' 첫 날…통신사는 '눈치싸움', 유통점은 '보조금 전쟁' 돌입https://n.news.naver.com/mnews/article/119/0002982196\n",
      "34\"갤Z폴드7 싸게 사는 법?\"...단통법 끝, '보조금 전쟁' 얼마까지 받나https://n.news.naver.com/mnews/article/014/0005380661\n",
      "35파라마운트, '오라클 클라우드'로 IT 대수술…1억 달러 계약 임박https://n.news.naver.com/mnews/article/092/0002383028\n",
      "36전기차 보조금 재지원 나서는 독일⋅영국…K-배터리 영향은? [소부장박대리]https://n.news.naver.com/mnews/article/138/0002201131\n",
      "37퓨리오사AI AI 추론 가속기 '레니게이드', LG '엑사원'에 도입https://n.news.naver.com/mnews/article/014/0005380658\n",
      "38지아이이노베이션, 에임드바이오와 손잡고 4兆 규모 뇌종양 치료제 공동개발https://n.news.naver.com/mnews/article/015/0005161136\n",
      "39대기업도 개인정보 유출 '참사'..실시간 유출 알림으로 보안 의식 업https://n.news.naver.com/mnews/article/018/0006071030\n",
      "40[이슈플러스] 통신시장 경쟁 물꼬 텄다…첫날 분위기는 '폭풍전야'https://n.news.naver.com/mnews/article/030/0003334012\n",
      "41단통법 오늘 폐지…이통사 보조금 전쟁 시작되나https://n.news.naver.com/mnews/article/056/0011993791\n",
      "42[현장] LG \"국가대표 AI, 우리 생태계로…글로벌 G3 도약할 것\"https://n.news.naver.com/mnews/article/092/0002383022\n",
      "43[현장] LG, '엑사원 생태계' 시대 연다…\"자체 AI 모델로 기술 주권 실현\"https://n.news.naver.com/mnews/article/092/0002383021\n",
      "44‘극한폭우 한 달 빨라’ 7월 폭우 빈도 최대 3.7배 증가https://n.news.naver.com/mnews/article/366/0001094566\n"
     ]
    }
   ],
   "source": [
    "# IT/과학 뉴스 \n",
    "req_param = {\n",
    "    'sid': 105\n",
    "}\n",
    "#url = 'https://news.naver.com/section/'\n",
    "\n",
    "url = 'https://news.naver.com/section/{sid}'.format(**req_param)\n",
    "print(url)\n",
    "\n",
    "# 요청 헤더 설정 : 브라우저 정보\n",
    "req_header = {\n",
    "    \"user-agent\": \"Mozilla/5.0 (Windows NT 10.0; Win64; x64) AppleWebKit/537.36 (KHTML, like Gecko) Chrome/104.0.0.0 Safari/537.36\"\n",
    "}\n",
    "\n",
    "res=requests.get(url,headers = req_header)\n",
    "print(res.status_code)\n",
    "\n",
    "# requests 의 get() 함수 호출하기 \n",
    "res=requests.get(url,headers=req_header)\n",
    "print(res.status_code, res.ok)\n",
    "print(type(res))\n",
    "print(res)\n",
    "# 응답(response)이 OK 이면\n",
    "# 응답 (response)에서 text 추출\n",
    "if res.ok:\n",
    "    html = res.text\n",
    "    # BeautifulSoup 객체 생성\n",
    "    soup = BeautifulSoup(html, \"html.parser\")   \n",
    "    #print(soup)\n",
    "    # CSS 선택자\n",
    "    # print(soup.select(\"div.sa_text a[href*='mnews/article']\"))\n",
    "    '''\n",
    "       <div class='sa_text'> \n",
    "          <a href=\"https://n.news.naver.com/mnews/article/366/0001094461\" class=\"sa_text_title\">\n",
    "    '''\n",
    "    a_tags = soup.select(\"div.sa_text a[href*='mnews/article'].sa_text_title\")\n",
    "    print(len(a_tags))\n",
    "    print(type(a_tags)) #[Tag,Tag,Tag]\n",
    "\n",
    "# <a> 태그 리스트 순회하기    \n",
    "    for idx,a_tag in enumerate(a_tags,1):\n",
    "        if a_tag.text:\n",
    "            title = a_tag.text.strip()\n",
    "            link = a_tag['href']\n",
    "            print(f'{idx}{title}{link}')\n",
    "\n",
    "    \n",
    "# 응답(response)이 Error 이면 status code 출력    \n",
    "\n"
   ]
  },
  {
   "cell_type": "code",
   "execution_count": 16,
   "id": "6d2f85ec",
   "metadata": {},
   "outputs": [
    {
     "name": "stdout",
     "output_type": "stream",
     "text": [
      "https://news.naver.com/section/105\n"
     ]
    }
   ],
   "source": [
    "# IT/과학 뉴스 \n",
    "req_param = {\n",
    "    'sid': 105\n",
    "}\n",
    "#url = f'https://news.naver.com/section/{sid}'\n",
    "\n",
    "url = 'https://news.naver.com/section/{sid}'.format(**req_param)\n",
    "print(url)\n",
    "\n"
   ]
  },
  {
   "cell_type": "code",
   "execution_count": null,
   "id": "d429079f",
   "metadata": {},
   "outputs": [],
   "source": []
  },
  {
   "cell_type": "code",
   "execution_count": null,
   "id": "7e8f0db2",
   "metadata": {},
   "outputs": [],
   "source": []
  },
  {
   "cell_type": "markdown",
   "id": "45640860-a449-4285-90d7-5f300292b461",
   "metadata": {},
   "source": [
    "### 1.1 뉴스제목 추출하는 함수 선언하기"
   ]
  },
  {
   "cell_type": "code",
   "execution_count": 30,
   "id": "9f2e4ef8",
   "metadata": {},
   "outputs": [],
   "source": [
    "import requests\n",
    "from bs4 import BeautifulSoup\n",
    "\n",
    "section_dict = {100:'정치',101:'경제',102:'사회',103:'생활/문화',104:'세계',105:'IT/과학'}\n",
    "\n",
    "def print_news(sid):  #print_new(103,'생활/문화') \n",
    "    url = f'https://news.naver.com/section/{sid}'\n",
    "    section = section_dict[sid]\n",
    "    print(f'{url}{section} 뉴스')"
   ]
  },
  {
   "cell_type": "code",
   "execution_count": null,
   "id": "858952c6",
   "metadata": {},
   "outputs": [],
   "source": [
    "print_news(103,section_dict[103])"
   ]
  },
  {
   "cell_type": "markdown",
   "id": "323196dc",
   "metadata": {},
   "source": [
    "### 2. Image 다운로드\n",
    "* referer 요청 헤더를 반드시 설정해야 한다."
   ]
  },
  {
   "cell_type": "code",
   "execution_count": 6,
   "id": "c72d6cb1",
   "metadata": {},
   "outputs": [
    {
     "ename": "ModuleNotFoundError",
     "evalue": "No module named 'requests'",
     "output_type": "error",
     "traceback": [
      "\u001b[1;31m---------------------------------------------------------------------------\u001b[0m",
      "\u001b[1;31mModuleNotFoundError\u001b[0m                       Traceback (most recent call last)",
      "\u001b[1;32mc:\\shieldus\\python\\Python_WebScraping_Analysis\\01뉴스제목_웹툰_OpenAPI.ipynb Cell 15\u001b[0m line \u001b[0;36m1\n\u001b[1;32m----> <a href='vscode-notebook-cell:/c%3A/shieldus/python/Python_WebScraping_Analysis/01%EB%89%B4%EC%8A%A4%EC%A0%9C%EB%AA%A9_%EC%9B%B9%ED%88%B0_OpenAPI.ipynb#X20sZmlsZQ%3D%3D?line=0'>1</a>\u001b[0m \u001b[39mimport\u001b[39;00m \u001b[39mrequests\u001b[39;00m\n\u001b[0;32m      <a href='vscode-notebook-cell:/c%3A/shieldus/python/Python_WebScraping_Analysis/01%EB%89%B4%EC%8A%A4%EC%A0%9C%EB%AA%A9_%EC%9B%B9%ED%88%B0_OpenAPI.ipynb#X20sZmlsZQ%3D%3D?line=1'>2</a>\u001b[0m \u001b[39mimport\u001b[39;00m \u001b[39mos\u001b[39;00m\n\u001b[0;32m      <a href='vscode-notebook-cell:/c%3A/shieldus/python/Python_WebScraping_Analysis/01%EB%89%B4%EC%8A%A4%EC%A0%9C%EB%AA%A9_%EC%9B%B9%ED%88%B0_OpenAPI.ipynb#X20sZmlsZQ%3D%3D?line=3'>4</a>\u001b[0m req_header \u001b[39m=\u001b[39m {\n\u001b[0;32m      <a href='vscode-notebook-cell:/c%3A/shieldus/python/Python_WebScraping_Analysis/01%EB%89%B4%EC%8A%A4%EC%A0%9C%EB%AA%A9_%EC%9B%B9%ED%88%B0_OpenAPI.ipynb#X20sZmlsZQ%3D%3D?line=4'>5</a>\u001b[0m     \u001b[39m'\u001b[39m\u001b[39mreferer\u001b[39m\u001b[39m'\u001b[39m:\u001b[39m'\u001b[39m\u001b[39m'\u001b[39m\n\u001b[0;32m      <a href='vscode-notebook-cell:/c%3A/shieldus/python/Python_WebScraping_Analysis/01%EB%89%B4%EC%8A%A4%EC%A0%9C%EB%AA%A9_%EC%9B%B9%ED%88%B0_OpenAPI.ipynb#X20sZmlsZQ%3D%3D?line=5'>6</a>\u001b[0m }\n",
      "\u001b[1;31mModuleNotFoundError\u001b[0m: No module named 'requests'"
     ]
    }
   ],
   "source": [
    "import requests\n",
    "import os\n",
    "\n",
    "req_header = {\n",
    "    'referer':''\n",
    "}\n",
    "\n",
    "img_urls = [\n",
    "    'https://image-comic.pstatic.net/webtoon/798173/5/20220804112251_d97bd1e1b38f0cd022e4e3639d2926b3_IMAG01_1.jpg',\n",
    "    'https://image-comic.pstatic.net/webtoon/798173/5/20220804112251_d97bd1e1b38f0cd022e4e3639d2926b3_IMAG01_2.jpg',\n",
    "    'https://image-comic.pstatic.net/webtoon/798173/5/20220804112251_d97bd1e1b38f0cd022e4e3639d2926b3_IMAG01_3.jpg'\n",
    "]\n",
    "\n",
    "for img_url in img_urls:\n",
    "    pass\n",
    "    # requests 의 get(url, headers) 함수 호출하기 \n",
    "        \n",
    "        # binary 응답 데이터 가져오기\n",
    "        \n",
    "        # url에서 파일명만 추출하기\n",
    "        \n",
    "        # binday data를 file에 write하기\n"
   ]
  },
  {
   "cell_type": "code",
   "execution_count": null,
   "id": "9d7abd47",
   "metadata": {},
   "outputs": [],
   "source": []
  },
  {
   "cell_type": "markdown",
   "id": "e8b00a04",
   "metadata": {},
   "source": [
    "* 현재 요청된 페이지의 image 모두 다운로드 해보기"
   ]
  },
  {
   "cell_type": "code",
   "execution_count": null,
   "id": "b30f7bf5",
   "metadata": {},
   "outputs": [],
   "source": []
  },
  {
   "cell_type": "markdown",
   "id": "2ac9f5f9",
   "metadata": {},
   "source": [
    "### 3. 파일 업로드 하기\n",
    "* http://httpbin.org/post 업로드 요청을 할 수 있는 url"
   ]
  },
  {
   "cell_type": "code",
   "execution_count": null,
   "id": "04da4790",
   "metadata": {},
   "outputs": [
    {
     "name": "stdout",
     "output_type": "stream",
     "text": [
      "200\n"
     ]
    }
   ],
   "source": [
    "import requests\n",
    "\n",
    "upload_files = {\n",
    "    \n",
    "}\n",
    "#print(upload_files)\n",
    "\n",
    "url = 'http://httpbin.org/post'\n",
    "# file 업로드 하려면 requests의 post 함수에 files 속성을 사용합니다.\n",
    "\n"
   ]
  },
  {
   "cell_type": "markdown",
   "id": "7ad65f12",
   "metadata": {},
   "source": [
    "### 4. 캡챠(이미지) API 호출하기\n",
    "* urllib 사용\n",
    "* 1. 캡차 키 발급 요청\n",
    "  2. 캡차 이미지 요청\n",
    "  3. 사용자 입력값 검증 요청"
   ]
  },
  {
   "cell_type": "code",
   "execution_count": null,
   "id": "bc4ae360-e772-4873-8642-d3494edd34e1",
   "metadata": {},
   "outputs": [],
   "source": [
    "# 캡차 키 발급 요청\n"
   ]
  },
  {
   "cell_type": "code",
   "execution_count": null,
   "id": "7b95b6a0-c218-4792-82a6-da4d80872071",
   "metadata": {},
   "outputs": [],
   "source": [
    "# 캡차 이미지 요청\n"
   ]
  },
  {
   "cell_type": "code",
   "execution_count": null,
   "id": "a79076af-2cd0-4de2-8301-316b9130c55e",
   "metadata": {},
   "outputs": [],
   "source": [
    "#  사용자 입력값 검증 요청\n",
    "\n"
   ]
  },
  {
   "cell_type": "markdown",
   "id": "b7d984a6",
   "metadata": {},
   "source": [
    "* requests를 사용하는 코드로 변경하기\n",
    "* [requests docs](https://requests.readthedocs.io/en/latest/user/quickstart/)"
   ]
  },
  {
   "cell_type": "code",
   "execution_count": null,
   "id": "727b427b",
   "metadata": {
    "scrolled": true
   },
   "outputs": [
    {
     "name": "stdout",
     "output_type": "stream",
     "text": [
      "Error Code: 403\n"
     ]
    }
   ],
   "source": [
    "# 사용자 입력값 검증 요청\n",
    "\n"
   ]
  },
  {
   "cell_type": "markdown",
   "id": "d5e1179a",
   "metadata": {},
   "source": [
    "### 5. 블로그 검색하기"
   ]
  },
  {
   "cell_type": "code",
   "execution_count": null,
   "id": "877d0c7f",
   "metadata": {},
   "outputs": [],
   "source": [
    "import requests\n",
    "import pprint\n",
    "\n",
    "headers = {\n",
    "    'X-Naver-Client-Id': '',\n",
    "    'X-Naver-Client-Secret': '',\n",
    "}\n",
    "\n",
    "payload = {\n",
    "    'query': '파이썬',\n",
    "    'display': 100,\n",
    "    'sort': 'sim'\n",
    "}\n",
    "\n",
    "url = 'https://openapi.naver.com/v1/search/blog.json'\n",
    "\n",
    "\n",
    "# requests get(url, params, headers) 요청 \n",
    "\n",
    "# json() 함수로 응답 결과 가져오오기\n",
    "# 'title' , 'bloggername' , 'description' , 'bloggerlink' , 'link'\n",
    "\n",
    "# 'data/nhnblog.txt' 파일 생성하기\n"
   ]
  }
 ],
 "metadata": {
  "kernelspec": {
   "display_name": "Python 3 (ipykernel)",
   "language": "python",
   "name": "python3"
  },
  "language_info": {
   "codemirror_mode": {
    "name": "ipython",
    "version": 3
   },
   "file_extension": ".py",
   "mimetype": "text/x-python",
   "name": "python",
   "nbconvert_exporter": "python",
   "pygments_lexer": "ipython3",
   "version": "3.12.7"
  }
 },
 "nbformat": 4,
 "nbformat_minor": 5
}
